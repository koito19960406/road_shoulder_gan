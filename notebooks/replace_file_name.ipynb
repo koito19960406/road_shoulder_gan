{
 "cells": [
  {
   "cell_type": "code",
   "execution_count": null,
   "metadata": {},
   "outputs": [],
   "source": [
    "import os\n",
    "\n",
    "def rename_files_in_directory(directory_path):\n",
    "    try:\n",
    "        for root, dirs, files in os.walk(directory_path):\n",
    "            for file in files:\n",
    "                if \"with_gan\" in file:\n",
    "                    # Construct new file name by replacing \"with_gan\" with \"cyclegan\"\n",
    "                    new_file_name = file.replace(\"with_gan\", \"cyclegan\")\n",
    "                    \n",
    "                    # Get full paths for old and new file names\n",
    "                    old_file_path = os.path.join(root, file)\n",
    "                    new_file_path = os.path.join(root, new_file_name)\n",
    "                    \n",
    "                    # Rename the file\n",
    "                    os.rename(old_file_path, new_file_path)\n",
    "                    print(f\"Renamed file: {old_file_path} to {new_file_path}\")\n",
    "        print(\"File renaming completed successfully.\")\n",
    "    except Exception as e:\n",
    "        print(f\"An error occurred: {e}\")\n",
    "        \n",
    "root_path = \"E:/road_shoulder_gan/data/processed\"\n",
    "for platform in [\"road_shoulder\", \"sidewalk\"]:\n",
    "    for view in [\"panorama\", \"perspective\"]:\n",
    "        directory_path = os.path.join(root_path, platform, view)\n",
    "        rename_files_in_directory(directory_path)"
   ]
  },
  {
   "cell_type": "code",
   "execution_count": null,
   "metadata": {},
   "outputs": [],
   "source": []
  }
 ],
 "metadata": {
  "language_info": {
   "name": "python"
  },
  "orig_nbformat": 4
 },
 "nbformat": 4,
 "nbformat_minor": 2
}
