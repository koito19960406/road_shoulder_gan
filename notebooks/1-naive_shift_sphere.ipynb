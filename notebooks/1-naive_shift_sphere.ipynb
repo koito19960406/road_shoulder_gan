{
 "cells": [
  {
   "cell_type": "code",
   "execution_count": 29,
   "metadata": {},
   "outputs": [],
   "source": [
    "import numpy as np\n",
    "import cv2\n",
    "import math\n",
    "\n",
    "def equirectangular_to_sphere_points(panorama, radius=1.0, density=1000):\n",
    "    height, width = panorama.shape[:2]\n",
    "    points = []\n",
    "    colors = []\n",
    "    \n",
    "    for i in range(0, height, height//density):\n",
    "        for j in range(0, width, width//density):\n",
    "            theta = (i / height) * math.pi\n",
    "            phi = (j / width) * 2 * math.pi\n",
    "            \n",
    "            x = radius * math.sin(theta) * math.cos(phi)\n",
    "            y = radius * math.sin(theta) * math.sin(phi)\n",
    "            z = radius * math.cos(theta)\n",
    "            \n",
    "            color = panorama[i, j]\n",
    "            \n",
    "            points.append([x, y, z])\n",
    "            colors.append(color)\n",
    "    \n",
    "    return np.array(points), np.array(colors)\n",
    "\n",
    "def shift_pov(points, shift):\n",
    "    return points - shift\n",
    "\n",
    "def sphere_points_to_equirectangular(points, colors, output_size):\n",
    "    height, width = output_size\n",
    "    panorama = np.zeros((height, width, 3), dtype=np.uint8)\n",
    "    \n",
    "    for point, color in zip(points, colors):\n",
    "        x, y, z = point\n",
    "        theta = math.acos(z / np.linalg.norm(point))\n",
    "        phi = math.atan2(y, x)\n",
    "        \n",
    "        if phi < 0:\n",
    "            phi += 2 * math.pi\n",
    "        \n",
    "        i = int((theta / math.pi) * height) - 1\n",
    "        j = int((phi / (2 * math.pi)) * width) - 1\n",
    "        \n",
    "        panorama[i, j] = color\n",
    "    \n",
    "    # Fill in gaps\n",
    "    panorama = cv2.dilate(panorama, np.ones((5,5), np.uint8))\n",
    "    panorama = cv2.medianBlur(panorama, 5)\n",
    "    \n",
    "    return panorama\n",
    "\n",
    "def shift_pov_from_pano(input_path, output_path, x=0, y=0, z=0):\n",
    "    # Load the panorama image\n",
    "    panorama = cv2.imread(input_path)\n",
    "    height, width = panorama.shape[:2]\n",
    "\n",
    "    # Create point cloud\n",
    "    points, colors = equirectangular_to_sphere_points(panorama, radius=1.0, density=1000)\n",
    "\n",
    "    # Shift POV\n",
    "    shift = np.array([x, y, z])\n",
    "    shifted_points = shift_pov(points, shift)\n",
    "\n",
    "    # Generate new panorama from shifted points\n",
    "    new_panorama = sphere_points_to_equirectangular(shifted_points, colors, (height, width))\n",
    "\n",
    "    # Save or display results\n",
    "    cv2.imwrite(output_path, new_panorama)"
   ]
  },
  {
   "cell_type": "code",
   "execution_count": 30,
   "metadata": {},
   "outputs": [
    {
     "name": "stdout",
     "output_type": "stream",
     "text": [
      "y: 0.5, z: -0.1, img: _8kvJmLvnIicc28eN1JsKQ.jpg\n"
     ]
    },
    {
     "name": "stdout",
     "output_type": "stream",
     "text": [
      "y: 0.5, z: -0.1, img: _b9eQrq8OXPZLm_vUMabgg.jpg\n",
      "y: 0.5, z: -0.1, img: _cirws0yB8TRyuJ9gpwrYg.jpg\n",
      "y: 0.5, z: -0.2, img: _8kvJmLvnIicc28eN1JsKQ.jpg\n",
      "y: 0.5, z: -0.2, img: _b9eQrq8OXPZLm_vUMabgg.jpg\n",
      "y: 0.5, z: -0.2, img: _cirws0yB8TRyuJ9gpwrYg.jpg\n",
      "y: 0.5, z: -0.3, img: _8kvJmLvnIicc28eN1JsKQ.jpg\n",
      "y: 0.5, z: -0.3, img: _b9eQrq8OXPZLm_vUMabgg.jpg\n",
      "y: 0.5, z: -0.3, img: _cirws0yB8TRyuJ9gpwrYg.jpg\n",
      "y: 0.5, z: -0.4, img: _8kvJmLvnIicc28eN1JsKQ.jpg\n",
      "y: 0.5, z: -0.4, img: _b9eQrq8OXPZLm_vUMabgg.jpg\n",
      "y: 0.5, z: -0.4, img: _cirws0yB8TRyuJ9gpwrYg.jpg\n",
      "y: 0.6, z: -0.1, img: _8kvJmLvnIicc28eN1JsKQ.jpg\n",
      "y: 0.6, z: -0.1, img: _b9eQrq8OXPZLm_vUMabgg.jpg\n",
      "y: 0.6, z: -0.1, img: _cirws0yB8TRyuJ9gpwrYg.jpg\n",
      "y: 0.6, z: -0.2, img: _8kvJmLvnIicc28eN1JsKQ.jpg\n",
      "y: 0.6, z: -0.2, img: _b9eQrq8OXPZLm_vUMabgg.jpg\n",
      "y: 0.6, z: -0.2, img: _cirws0yB8TRyuJ9gpwrYg.jpg\n",
      "y: 0.6, z: -0.3, img: _8kvJmLvnIicc28eN1JsKQ.jpg\n",
      "y: 0.6, z: -0.3, img: _b9eQrq8OXPZLm_vUMabgg.jpg\n",
      "y: 0.6, z: -0.3, img: _cirws0yB8TRyuJ9gpwrYg.jpg\n",
      "y: 0.6, z: -0.4, img: _8kvJmLvnIicc28eN1JsKQ.jpg\n",
      "y: 0.6, z: -0.4, img: _b9eQrq8OXPZLm_vUMabgg.jpg\n",
      "y: 0.6, z: -0.4, img: _cirws0yB8TRyuJ9gpwrYg.jpg\n",
      "y: 0.7, z: -0.1, img: _8kvJmLvnIicc28eN1JsKQ.jpg\n",
      "y: 0.7, z: -0.1, img: _b9eQrq8OXPZLm_vUMabgg.jpg\n",
      "y: 0.7, z: -0.1, img: _cirws0yB8TRyuJ9gpwrYg.jpg\n",
      "y: 0.7, z: -0.2, img: _8kvJmLvnIicc28eN1JsKQ.jpg\n",
      "y: 0.7, z: -0.2, img: _b9eQrq8OXPZLm_vUMabgg.jpg\n",
      "y: 0.7, z: -0.2, img: _cirws0yB8TRyuJ9gpwrYg.jpg\n",
      "y: 0.7, z: -0.3, img: _8kvJmLvnIicc28eN1JsKQ.jpg\n",
      "y: 0.7, z: -0.3, img: _b9eQrq8OXPZLm_vUMabgg.jpg\n",
      "y: 0.7, z: -0.3, img: _cirws0yB8TRyuJ9gpwrYg.jpg\n",
      "y: 0.7, z: -0.4, img: _8kvJmLvnIicc28eN1JsKQ.jpg\n",
      "y: 0.7, z: -0.4, img: _b9eQrq8OXPZLm_vUMabgg.jpg\n",
      "y: 0.7, z: -0.4, img: _cirws0yB8TRyuJ9gpwrYg.jpg\n",
      "y: 0.8, z: -0.1, img: _8kvJmLvnIicc28eN1JsKQ.jpg\n",
      "y: 0.8, z: -0.1, img: _b9eQrq8OXPZLm_vUMabgg.jpg\n",
      "y: 0.8, z: -0.1, img: _cirws0yB8TRyuJ9gpwrYg.jpg\n",
      "y: 0.8, z: -0.2, img: _8kvJmLvnIicc28eN1JsKQ.jpg\n",
      "y: 0.8, z: -0.2, img: _b9eQrq8OXPZLm_vUMabgg.jpg\n",
      "y: 0.8, z: -0.2, img: _cirws0yB8TRyuJ9gpwrYg.jpg\n",
      "y: 0.8, z: -0.3, img: _8kvJmLvnIicc28eN1JsKQ.jpg\n",
      "y: 0.8, z: -0.3, img: _b9eQrq8OXPZLm_vUMabgg.jpg\n",
      "y: 0.8, z: -0.3, img: _cirws0yB8TRyuJ9gpwrYg.jpg\n",
      "y: 0.8, z: -0.4, img: _8kvJmLvnIicc28eN1JsKQ.jpg\n",
      "y: 0.8, z: -0.4, img: _b9eQrq8OXPZLm_vUMabgg.jpg\n",
      "y: 0.8, z: -0.4, img: _cirws0yB8TRyuJ9gpwrYg.jpg\n",
      "y: 0.9, z: -0.1, img: _8kvJmLvnIicc28eN1JsKQ.jpg\n",
      "y: 0.9, z: -0.1, img: _b9eQrq8OXPZLm_vUMabgg.jpg\n",
      "y: 0.9, z: -0.1, img: _cirws0yB8TRyuJ9gpwrYg.jpg\n",
      "y: 0.9, z: -0.2, img: _8kvJmLvnIicc28eN1JsKQ.jpg\n",
      "y: 0.9, z: -0.2, img: _b9eQrq8OXPZLm_vUMabgg.jpg\n",
      "y: 0.9, z: -0.2, img: _cirws0yB8TRyuJ9gpwrYg.jpg\n",
      "y: 0.9, z: -0.3, img: _8kvJmLvnIicc28eN1JsKQ.jpg\n",
      "y: 0.9, z: -0.3, img: _b9eQrq8OXPZLm_vUMabgg.jpg\n",
      "y: 0.9, z: -0.3, img: _cirws0yB8TRyuJ9gpwrYg.jpg\n",
      "y: 0.9, z: -0.4, img: _8kvJmLvnIicc28eN1JsKQ.jpg\n",
      "y: 0.9, z: -0.4, img: _b9eQrq8OXPZLm_vUMabgg.jpg\n",
      "y: 0.9, z: -0.4, img: _cirws0yB8TRyuJ9gpwrYg.jpg\n"
     ]
    }
   ],
   "source": [
    "import os\n",
    "\n",
    "os.makedirs(\"data/raw/traditional_cv/exploration\", exist_ok=True)\n",
    "# parameter exloration (x, y, z)\n",
    "for y in range(1, 10, 1):\n",
    "    y = y / 10\n",
    "    for z in range(-1, -5, -1):\n",
    "        z = z / 10\n",
    "        img_1 = \"data/raw/road_shoulder/gsv/image/gsv_panorama/_8kvJmLvnIicc28eN1JsKQ.jpg\"\n",
    "        img_2 = \"data/raw/road_shoulder/gsv/image/gsv_panorama/_b9eQrq8OXPZLm_vUMabgg.jpg\"\n",
    "        img_3 = \"data/raw/road_shoulder/gsv/image/gsv_panorama/_cirws0yB8TRyuJ9gpwrYg.jpg\"\n",
    "        for img in [img_1, img_2, img_3]:\n",
    "            if not os.path.exists(f\"data/raw/traditional_cv/exploration/y_{y}_z_{z}_{img.split('/')[-1]}\"):\n",
    "                print(f\"y: {y}, z: {z}, img: {img.split('/')[-1]}\")\n",
    "                shift_pov_from_pano(img, f\"data/raw/traditional_cv/exploration/y_{y}_z_{z}_{img.split('/')[-1]}\", y=y, z=z)"
   ]
  },
  {
   "cell_type": "code",
   "execution_count": 2,
   "metadata": {},
   "outputs": [
    {
     "name": "stderr",
     "output_type": "stream",
     "text": [
      " 25%|██▌       | 4200/16611 [16:27<17:37, 11.74it/s]  "
     ]
    },
    {
     "name": "stdout",
     "output_type": "stream",
     "text": [
      "Error processing image: range() arg 3 must not be zero\n"
     ]
    },
    {
     "name": "stderr",
     "output_type": "stream",
     "text": [
      " 27%|██▋       | 4513/16611 [17:10<27:54,  7.22it/s]"
     ]
    },
    {
     "name": "stdout",
     "output_type": "stream",
     "text": [
      "Error processing image: range() arg 3 must not be zero\n"
     ]
    },
    {
     "name": "stderr",
     "output_type": "stream",
     "text": [
      " 31%|███       | 5135/16611 [21:47<53:15,  3.59it/s]  "
     ]
    },
    {
     "name": "stdout",
     "output_type": "stream",
     "text": [
      "Error processing image: range() arg 3 must not be zero\n"
     ]
    },
    {
     "name": "stderr",
     "output_type": "stream",
     "text": [
      " 33%|███▎      | 5561/16611 [25:36<28:35,  6.44it/s]  "
     ]
    },
    {
     "name": "stdout",
     "output_type": "stream",
     "text": [
      "Error processing image: range() arg 3 must not be zero\n"
     ]
    },
    {
     "name": "stderr",
     "output_type": "stream",
     "text": [
      " 70%|██████▉   | 11594/16611 [1:00:32<15:07,  5.53it/s]"
     ]
    },
    {
     "name": "stdout",
     "output_type": "stream",
     "text": [
      "Error processing image: range() arg 3 must not be zero\n"
     ]
    },
    {
     "name": "stderr",
     "output_type": "stream",
     "text": [
      " 78%|███████▊  | 12934/16611 [1:07:26<06:04, 10.08it/s]  "
     ]
    },
    {
     "name": "stdout",
     "output_type": "stream",
     "text": [
      "Error processing image: range() arg 3 must not be zero\n"
     ]
    },
    {
     "name": "stderr",
     "output_type": "stream",
     "text": [
      " 83%|████████▎ | 13862/16611 [1:12:39<11:50,  3.87it/s]"
     ]
    },
    {
     "name": "stdout",
     "output_type": "stream",
     "text": [
      "Error processing image: range() arg 3 must not be zero\n"
     ]
    },
    {
     "name": "stderr",
     "output_type": "stream",
     "text": [
      " 86%|████████▋ | 14344/16611 [1:14:16<05:55,  6.37it/s]"
     ]
    },
    {
     "name": "stdout",
     "output_type": "stream",
     "text": [
      "Error processing image: range() arg 3 must not be zero\n"
     ]
    },
    {
     "name": "stderr",
     "output_type": "stream",
     "text": [
      " 91%|█████████ | 15123/16611 [1:19:04<10:09,  2.44it/s]"
     ]
    },
    {
     "name": "stdout",
     "output_type": "stream",
     "text": [
      "Error processing image: range() arg 3 must not be zero\n"
     ]
    },
    {
     "name": "stderr",
     "output_type": "stream",
     "text": [
      " 94%|█████████▎| 15547/16611 [1:21:21<07:44,  2.29it/s]"
     ]
    },
    {
     "name": "stdout",
     "output_type": "stream",
     "text": [
      "Error processing image: range() arg 3 must not be zero\n"
     ]
    },
    {
     "name": "stderr",
     "output_type": "stream",
     "text": [
      " 99%|█████████▉| 16427/16611 [1:26:17<00:43,  4.28it/s]"
     ]
    },
    {
     "name": "stdout",
     "output_type": "stream",
     "text": [
      "Error processing image: range() arg 3 must not be zero\n"
     ]
    },
    {
     "name": "stderr",
     "output_type": "stream",
     "text": [
      "100%|██████████| 16611/16611 [1:30:17<00:00,  3.07it/s]\n"
     ]
    }
   ],
   "source": [
    "import pandas as pd\n",
    "import os\n",
    "from concurrent.futures import ThreadPoolExecutor, as_completed\n",
    "from tqdm import tqdm\n",
    "\n",
    "# Make output directory\n",
    "os.makedirs(\"data/raw/traditional_cv/test\", exist_ok=True)\n",
    "\n",
    "# Get test images\n",
    "test_image_list = os.listdir(\"data/processed/road_shoulder/cyclegan_filtered/testA\")\n",
    "\n",
    "# Read CSV\n",
    "id_df = pd.read_csv(\"data/raw/road_shoulder/gsv/metadata/gsv_metadata_cv_filtered.csv\")\n",
    "id_df[\"mly_id\"] = id_df[\"mly_id\"].astype(int).astype(str).apply(lambda x: x + \".jpg\")\n",
    "\n",
    "# Filter id_df with test_image_list based on mly_id\n",
    "id_df = id_df[id_df[\"mly_id\"].isin(test_image_list)]\n",
    "panoid_list = id_df[\"panoid\"].values.tolist()\n",
    "\n",
    "# Loop through data/raw/road_shoulder/gsv/image/gsv_panorama and shift POV by 0.8, -0.3\n",
    "image_list = os.listdir(\"data/raw/road_shoulder/gsv/image/gsv_panorama\")\n",
    "\n",
    "def process_image(image):\n",
    "    if image.replace(\".jpg\", \"\") not in panoid_list:\n",
    "        return\n",
    "    shift_pov_from_pano(\n",
    "        f\"data/raw/road_shoulder/gsv/image/gsv_panorama/{image}\",\n",
    "        f\"data/raw/traditional_cv/test/{image}\",\n",
    "        y=0.8, z=-0.3\n",
    "    )\n",
    "\n",
    "# Use ThreadPoolExecutor to parallelize the processing with a progress bar using as_completed\n",
    "with ThreadPoolExecutor() as executor:\n",
    "    futures = {executor.submit(process_image, image): image for image in image_list}\n",
    "    for future in tqdm(as_completed(futures), total=len(futures)):\n",
    "        # You can handle exceptions here if needed\n",
    "        try:\n",
    "            future.result()\n",
    "        except Exception as e:\n",
    "            print(f\"Error processing image: {e}\")"
   ]
  },
  {
   "cell_type": "code",
   "execution_count": 3,
   "metadata": {},
   "outputs": [
    {
     "name": "stdout",
     "output_type": "stream",
     "text": [
      "Using GPU\n"
     ]
    },
    {
     "data": {
      "application/vnd.jupyter.widget-view+json": {
       "model_id": "9a45e93f9c6a436bad2ff08de76da4a8",
       "version_major": 2,
       "version_minor": 0
      },
      "text/plain": [
       "preprocessor_config.json:   0%|          | 0.00/537 [00:00<?, ?B/s]"
      ]
     },
     "metadata": {},
     "output_type": "display_data"
    },
    {
     "name": "stderr",
     "output_type": "stream",
     "text": [
      "/data/koichi/miniconda3/envs/gan_svi/lib/python3.10/site-packages/transformers/utils/deprecation.py:165: UserWarning: The following named arguments are not valid for `Mask2FormerImageProcessor.__init__` and were ignored: '_max_size'\n",
      "  return func(*args, **kwargs)\n"
     ]
    },
    {
     "data": {
      "application/vnd.jupyter.widget-view+json": {
       "model_id": "8ea0825ed02d468c9efbd106a93a39e0",
       "version_major": 2,
       "version_minor": 0
      },
      "text/plain": [
       "config.json:   0%|          | 0.00/77.3k [00:00<?, ?B/s]"
      ]
     },
     "metadata": {},
     "output_type": "display_data"
    },
    {
     "data": {
      "application/vnd.jupyter.widget-view+json": {
       "model_id": "b87600885e73459680350156fb13f0a7",
       "version_major": 2,
       "version_minor": 0
      },
      "text/plain": [
       "model.safetensors:   0%|          | 0.00/190M [00:00<?, ?B/s]"
      ]
     },
     "metadata": {},
     "output_type": "display_data"
    },
    {
     "data": {
      "application/vnd.jupyter.widget-view+json": {
       "model_id": "4b45b4a12fe3456285bd2859e1f9f953",
       "version_major": 2,
       "version_minor": 0
      },
      "text/plain": [
       "Processing outer batches of size 498:   0%|          | 0/1 [00:00<?, ?it/s]"
      ]
     },
     "metadata": {},
     "output_type": "display_data"
    },
    {
     "data": {
      "application/vnd.jupyter.widget-view+json": {
       "model_id": "52f6cbfb7c3b45bdb9bf0d2fdbb100c7",
       "version_major": 2,
       "version_minor": 0
      },
      "text/plain": [
       "Processing outer batch #1:   0%|          | 0/498 [00:00<?, ?it/s]"
      ]
     },
     "metadata": {},
     "output_type": "display_data"
    }
   ],
   "source": [
    "from zensvi.cv import Segmenter\n",
    "import os \n",
    "\n",
    "os.makedirs('data/processed/traditional_cv/segmented_images', exist_ok=True)\n",
    "os.makedirs('data/processed/traditional_cv/segmented_labels', exist_ok=True)\n",
    "segmenter = Segmenter()\n",
    "segmenter.segment('data/raw/traditional_cv/test',\n",
    "                  dir_image_output='data/processed/traditional_cv/segmented_images',\n",
    "                  dir_summary_output='data/processed/traditional_cv/segmented_labels',\n",
    "                  save_image_options='blend_image',\n",
    "                  save_format='csv',\n",
    "                  csv_format='wide')"
   ]
  },
  {
   "cell_type": "code",
   "execution_count": 12,
   "metadata": {},
   "outputs": [
    {
     "name": "stderr",
     "output_type": "stream",
     "text": [
      "Converting to perspective: 100%|██████████| 498/498 [00:00<00:00, 1574.20it/s]"
     ]
    },
    {
     "name": "stderr",
     "output_type": "stream",
     "text": [
      "\n"
     ]
    },
    {
     "name": "stdout",
     "output_type": "stream",
     "text": [
      "Using GPU\n"
     ]
    },
    {
     "data": {
      "application/vnd.jupyter.widget-view+json": {
       "model_id": "87485c2e517740f290940468eb2657ad",
       "version_major": 2,
       "version_minor": 0
      },
      "text/plain": [
       "Processing outer batches of size 498:   0%|          | 0/1 [00:00<?, ?it/s]"
      ]
     },
     "metadata": {},
     "output_type": "display_data"
    },
    {
     "data": {
      "application/vnd.jupyter.widget-view+json": {
       "model_id": "43050312300644108e647eb948053507",
       "version_major": 2,
       "version_minor": 0
      },
      "text/plain": [
       "Processing outer batch #1:   0%|          | 0/498 [00:00<?, ?it/s]"
      ]
     },
     "metadata": {},
     "output_type": "display_data"
    }
   ],
   "source": [
    "# transform panorama to perspectives\n",
    "from zensvi.transform import ImageTransformer\n",
    "import os\n",
    "os.makedirs(\"data/processed/traditional_cv/perspective_images/all\", exist_ok=True)\n",
    "transformer = ImageTransformer(dir_input=\"data/raw/traditional_cv/test\",\n",
    "                               dir_output=\"data/processed/traditional_cv/perspective_images/all\")\n",
    "transformer.transform_images(style_list=\"perspective\")\n",
    "\n",
    "# copy files with \"Direction_0\" to \"data/processed/traditional_cv/perspective_images/Direction_0\"\n",
    "os.makedirs(\"data/processed/traditional_cv/perspective_images/Direction_0\", exist_ok=True)\n",
    "for image in os.listdir(\"data/processed/traditional_cv/perspective_images/all/perspective\"):\n",
    "    if \"Direction_0\" in image:\n",
    "        os.rename(f\"data/processed/traditional_cv/perspective_images/all/perspective/{image}\", \n",
    "                  f\"data/processed/traditional_cv/perspective_images/Direction_0/{image}\")\n",
    "        \n",
    "# run segmentation on perspective images\n",
    "os.makedirs('data/processed/traditional_cv/segmented_images/Direction_0', exist_ok=True)\n",
    "os.makedirs('data/processed/traditional_cv/segmented_labels/Direction_0', exist_ok=True)\n",
    "segmenter = Segmenter()\n",
    "segmenter.segment('data/processed/traditional_cv/perspective_images/Direction_0',\n",
    "                  dir_image_output='data/processed/traditional_cv/segmented_images/Direction_0',\n",
    "                  dir_summary_output='data/processed/traditional_cv/segmented_labels/Direction_0',\n",
    "                  save_image_options='blend_image',\n",
    "                  save_format='csv',\n",
    "                  csv_format='wide')"
   ]
  },
  {
   "cell_type": "code",
   "execution_count": 11,
   "metadata": {},
   "outputs": [
    {
     "name": "stdout",
     "output_type": "stream",
     "text": [
      "0      1126770208003040\n",
      "1      1202773767001481\n",
      "2       735575394811200\n",
      "3       555282096627593\n",
      "4       561111252645669\n",
      "             ...       \n",
      "150     596389005647341\n",
      "151     498517415786240\n",
      "152     861789291815851\n",
      "153     862021441740450\n",
      "154     935332707381955\n",
      "Name: filename_key, Length: 155, dtype: object\n",
      "0       102982035841478\n",
      "1       103829669084290\n",
      "2       105888675509658\n",
      "3       106102425482481\n",
      "4       108175612012831\n",
      "             ...       \n",
      "648    5763097263735638\n",
      "649    5882061678493376\n",
      "650    5899699310040876\n",
      "651    5927870303892543\n",
      "652    5933390910023492\n",
      "Name: filename_key, Length: 653, dtype: object\n"
     ]
    }
   ],
   "source": [
    "import pandas as pd\n",
    "ground_truth = pd.read_csv(\"data/processed/road_shoulder/panorama/test/B_segmentation/pixel_ratios.csv\")\n",
    "# rename vegetation to ground_truth_vegetation\n",
    "ground_truth.rename(columns={\"vegetation\": \"ground_truth_vegetation\",\n",
    "                             \"building\": \"ground_truth_building\",\n",
    "                             \"sky\": \"ground_truth_sky\",\n",
    "                             }, inplace=True)\n",
    "ground_truth[\"filename_key\"] = ground_truth[\"filename_key\"].astype(str)\n",
    "sidewalk = pd.read_csv(\"data/processed/sidewalk/panorama/test/B_segmentation/pixel_ratios.csv\")\n",
    "# rename vegetation to ground_truth_vegetation\n",
    "sidewalk.rename(columns={\"vegetation\": \"ground_truth_sidewalk_vegetation\",\n",
    "                         \"building\": \"ground_truth_sidewalk_building\",\n",
    "                            \"sky\": \"ground_truth_sidewalk_sky\",\n",
    "                            }, inplace=True)\n",
    "sidewalk[\"filename_key\"] = sidewalk[\"filename_key\"].astype(str)\n",
    "shifted_pano = pd.read_csv(\"data/processed/traditional_cv/segmented_labels/pixel_ratios.csv\")\n",
    "# rename vegetation to predicted_vegetation\n",
    "shifted_pano.rename(columns={\"vegetation\": \"shifted_pano_vegetation\",\n",
    "                                \"building\": \"shifted_pano_building\",\n",
    "                                \"sky\": \"shifted_pano_sky\",\n",
    "                                }, inplace=True)\n",
    "shifted_per = pd.read_csv(\"data/processed/traditional_cv/segmented_labels/Direction_0/pixel_ratios.csv\")\n",
    "shifted_per[\"filename_key\"] = shifted_per[\"filename_key\"].astype(str).apply(lambda x: x.replace(\"_Direction_0_FOV_90_aspect_9--16_raw\", \"\"))\n",
    "shifted_per.rename(columns={\"vegetation\": \"shifted_per_vegetation\",\n",
    "                                \"building\": \"shifted_per_building\",\n",
    "                                \"sky\": \"shifted_per_sky\",\n",
    "                                }, inplace=True)\n",
    "\n",
    "id_df = pd.read_csv(\"data/raw/road_shoulder/gsv/metadata/gsv_metadata_cv_filtered.csv\")\n",
    "id_df[\"mly_id\"] = id_df[\"mly_id\"].astype(int).astype(str)\n",
    "\n",
    "merged = pd.merge(id_df, ground_truth, left_on=\"mly_id\", right_on=\"filename_key\")\n",
    "print(sidewalk[\"filename_key\"])\n",
    "print(merged[\"filename_key\"])\n",
    "merged = pd.merge(merged, sidewalk, on = \"filename_key\")\n",
    "# merged = pd.merge(merged, shifted_pano, left_on=\"panoid\", right_on=\"filename_key\")\n",
    "# merged = pd.merge(merged, shifted_per, left_on=\"panoid\", right_on=\"filename_key\")\n",
    "\n",
    "# # calculate MSE, MAE, R^2, and Pearson correlation between ground_truth_vegetation and predicted_vegetation\n",
    "# from sklearn.metrics import mean_squared_error, mean_absolute_error, r2_score\n",
    "# from scipy.stats import pearsonr\n",
    "\n",
    "# df_list = []\n",
    "# for variable in [\"vegetation\", \"building\", \"sky\"]:\n",
    "#     mse_pano = mean_squared_error(merged[f\"ground_truth_{variable}\"], merged[f\"shifted_pano_{variable}\"])\n",
    "#     mae_pano = mean_absolute_error(merged[f\"ground_truth_{variable}\"], merged[f\"shifted_pano_{variable}\"])\n",
    "#     r2_pano = r2_score(merged[f\"ground_truth_{variable}\"], merged[f\"shifted_pano_{variable}\"])\n",
    "#     pearson_pano = pearsonr(merged[f\"ground_truth_{variable}\"], merged[f\"shifted_pano_{variable}\"])[0]\n",
    "    \n",
    "#     mse_per = mean_squared_error(merged[f\"ground_truth_{variable}\"], merged[f\"shifted_per_{variable}\"])\n",
    "#     mae_per = mean_absolute_error(merged[f\"ground_truth_{variable}\"], merged[f\"shifted_per_{variable}\"])\n",
    "#     r2_per = r2_score(merged[f\"ground_truth_{variable}\"], merged[f\"shifted_per_{variable}\"])\n",
    "#     pearson_per = pearsonr(merged[f\"ground_truth_{variable}\"], merged[f\"shifted_per_{variable}\"])[0]\n",
    "    \n",
    "#     mse_pano_sidewalk = mean_squared_error(merged[f\"ground_truth_sidewalk_{variable}\"], merged[f\"shifted_pano_{variable}\"])\n",
    "#     mae_pano_sidewalk = mean_absolute_error(merged[f\"ground_truth_sidewalk_{variable}\"], merged[f\"shifted_pano_{variable}\"])\n",
    "#     r2_pano_sidewalk = r2_score(merged[f\"ground_truth_sidewalk_{variable}\"], merged[f\"shifted_pano_{variable}\"])\n",
    "#     pearson_pano_sidewalk = pearsonr(merged[f\"ground_truth_sidewalk_{variable}\"], merged[f\"shifted_pano_{variable}\"])[0]\n",
    "    \n",
    "#     mse_per_sidewalk = mean_squared_error(merged[f\"ground_truth_sidewalk_{variable}\"], merged[f\"shifted_per_{variable}\"])\n",
    "#     mae_per_sidewalk = mean_absolute_error(merged[f\"ground_truth_sidewalk_{variable}\"], merged[f\"shifted_per_{variable}\"])\n",
    "#     r2_per_sidewalk = r2_score(merged[f\"ground_truth_sidewalk_{variable}\"], merged[f\"shifted_per_{variable}\"])\n",
    "#     pearson_per_sidewalk = pearsonr(merged[f\"ground_truth_sidewalk_{variable}\"], merged[f\"shifted_per_{variable}\"])[0]\n",
    "    \n",
    "#     df = pd.DataFrame({\n",
    "#         \"mse\": [mse_pano, mse_per, mse_pano_sidewalk, mse_per_sidewalk],\n",
    "#         \"mae\": [mae_pano, mae_per, mae_pano_sidewalk, mae_per_sidewalk],\n",
    "#         \"r2\": [r2_pano, r2_per, r2_pano_sidewalk, r2_per_sidewalk],\n",
    "#         \"pearson\": [pearson_pano, pearson_per, pearson_pano_sidewalk, pearson_per_sidewalk],\n",
    "#         \"variable\": [variable, variable, variable, variable],\n",
    "#         \"method\": [\"pano\", \"per\", \"pano_sidewalk\", \"per_sidewalk\"]\n",
    "#     })\n",
    "#     df_list.append(df)\n",
    "    \n",
    "# df = pd.concat(df_list)\n",
    "# df.to_csv(\"data/processed/traditional_cv/result.csv\")"
   ]
  },
  {
   "cell_type": "code",
   "execution_count": null,
   "metadata": {},
   "outputs": [],
   "source": []
  }
 ],
 "metadata": {
  "kernelspec": {
   "display_name": "Python 3 (ipykernel)",
   "language": "python",
   "name": "python3"
  },
  "language_info": {
   "codemirror_mode": {
    "name": "ipython",
    "version": 3
   },
   "file_extension": ".py",
   "mimetype": "text/x-python",
   "name": "python",
   "nbconvert_exporter": "python",
   "pygments_lexer": "ipython3",
   "version": "3.10.14"
  }
 },
 "nbformat": 4,
 "nbformat_minor": 2
}
